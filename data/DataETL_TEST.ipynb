{
 "cells": [
  {
   "cell_type": "code",
   "execution_count": 45,
   "metadata": {},
   "outputs": [],
   "source": [
    "import GenerateData\n",
    "from pymongo import MongoClient\n",
    "import pandas as pd \n",
    "import numpy as np"
   ]
  },
  {
   "cell_type": "code",
   "execution_count": 46,
   "metadata": {},
   "outputs": [],
   "source": [
    "def db_connection():\n",
    "    \n",
    "    try:\n",
    "        client = MongoClient(\"localhost\", 27017)\n",
    "    except:\n",
    "        print(\"Something went wrong, this is very useful exception raise!\")\n",
    "\n",
    "    return client"
   ]
  },
  {
   "cell_type": "code",
   "execution_count": 47,
   "metadata": {},
   "outputs": [],
   "source": [
    "def main():\n",
    "    # Create and generate project object and samples\n",
    "    project_df = GenerateData.ProjectDataFrame()\n",
    "    project_df.create_project_samples()\n",
    "\n",
    "    # Create and generate tasks object and samples\n",
    "    task_df = GenerateData.TaskDataFrame()\n",
    "    task_df.create_task_samples()\n",
    "\n",
    "    # Establish connection and put data into MongoDB\n",
    "    client = db_connection()\n",
    "    db = client.project_managementdb\n",
    "\n",
    "    db.projects.insert_many(project_df.df.to_dict('records'))\n",
    "    db.tasks.insert_many(task_df.df.to_dict('records'))"
   ]
  },
  {
   "cell_type": "code",
   "execution_count": 48,
   "metadata": {},
   "outputs": [],
   "source": [
    "main()"
   ]
  }
 ],
 "metadata": {
  "kernelspec": {
   "display_name": "base",
   "language": "python",
   "name": "python3"
  },
  "language_info": {
   "codemirror_mode": {
    "name": "ipython",
    "version": 3
   },
   "file_extension": ".py",
   "mimetype": "text/x-python",
   "name": "python",
   "nbconvert_exporter": "python",
   "pygments_lexer": "ipython3",
   "version": "3.10.9"
  },
  "orig_nbformat": 4
 },
 "nbformat": 4,
 "nbformat_minor": 2
}
