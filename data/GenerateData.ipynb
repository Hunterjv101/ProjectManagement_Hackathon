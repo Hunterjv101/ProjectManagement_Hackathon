{
 "cells": [
  {
   "cell_type": "code",
   "execution_count": 126,
   "metadata": {},
   "outputs": [
    {
     "data": {
      "text/plain": [
       "'\\nThis script generates 1500 samples for project and tasks. The project\\ndata will be used to predict completion time and the task attributes are\\ngenerated for the sake of app completion.\\n\\nTODO:\\n- Move to python script and import it as a module to generate data\\n\\n'"
      ]
     },
     "execution_count": 126,
     "metadata": {},
     "output_type": "execute_result"
    }
   ],
   "source": [
    "import random\n",
    "import json\n",
    "import datetime\n",
    "import numpy as np\n",
    "import math\n",
    "import pandas as pd\n",
    "import datetime\n",
    "\n",
    "'''\n",
    "This script generates 1500 samples for project and tasks. The project\n",
    "data will be used to predict completion time and the task attributes are\n",
    "generated for the sake of app completion.\n",
    "\n",
    "TODO:\n",
    "- Move to python script and import it as a module to generate data\n",
    "\n",
    "'''\n"
   ]
  },
  {
   "cell_type": "code",
   "execution_count": 127,
   "metadata": {},
   "outputs": [],
   "source": [
    "\n",
    "class ProjectDataFrame:\n",
    "    \n",
    "    def __init__(self,project_data_filepath = None):\n",
    "        \n",
    "        # Assuming its csv for now because we generated the data\n",
    "        if project_data_filepath is not None:\n",
    "            self.df = pd.read_json(project_data_filepath)\n",
    "            \n",
    "        self.seed = random.seed(random.randrange(1,1000)) # Random seed just chose a number\n",
    "        self.df = None\n",
    "\n",
    "    def __str__(self):\n",
    "        return '{} samples\\n{} columns'.format(self.df.shape[0], self.df.shape[1])\n",
    "        \n",
    "    @staticmethod\n",
    "    def generate_project_sample(id):\n",
    "        '''\n",
    "        sample = generate_sample(1). Creates a random sample with unit_id = 1\n",
    "        '''\n",
    "        project_dict = {\n",
    "            \"project_id\": id,\n",
    "            \"team_size\": random.randint(1,50),\n",
    "            \"budget\": math.floor(random.random() * 2000000),\n",
    "            # Workload is based off of story points\n",
    "            \"workload\": random.choice(['Light','Moderate','Heavy']),\n",
    "            \"cumulative_experience_years\": random.randint(10,200),\n",
    "            \"completion_time\": random.randint(50,720),\n",
    "        }\n",
    "\n",
    "        return project_dict\n",
    "    \n",
    "\n",
    "    def create_project_samples(self):\n",
    "        records = [self.generate_project_sample(i) for i in range(1500)]\n",
    "        self.df = pd.DataFrame(records)\n",
    "\n",
    "        \n",
    "    "
   ]
  },
  {
   "cell_type": "code",
   "execution_count": 128,
   "metadata": {},
   "outputs": [],
   "source": [
    "class TaskDataFrame():\n",
    "\n",
    "    def __init__(self, task_data_filepath = None):\n",
    "        \n",
    "        if task_data_filepath is not None:\n",
    "            self.df = pd.read_json(task_data_filepath)\n",
    "        \n",
    "        self.seed = random.seed(random.randrange(1,1000)) # Random seed just chose a number\n",
    "        self.df = None\n",
    "\n",
    "    def __str__(self):\n",
    "        return '{} samples\\n{} columns'.format(self.df.shape[0], self.df.shape[1])\n",
    "\n",
    "\n",
    "    @staticmethod\n",
    "    def generate_name():\n",
    "\n",
    "        first_names = [\"Allison\", \"John\", \"Becky\", \"Romeo\", \"Hunter\", \"Kappa\", \"Jing\", \"Jared\"]\n",
    "        last_names = ['Python', 'Scheme', 'Java', 'R', 'Polar', 'Mouse', 'Random', \"Smith\", \"Flather\", \"Scala\", \"Camel\"] \n",
    "\n",
    "        return ' '.join([random.choice(first_names),random.choice(last_names)])\n",
    "    \n",
    "\n",
    "    @staticmethod\n",
    "    def generate_datetime(start,end):\n",
    "        '''\n",
    "        generate_datetime(start datetime,end datetime)\n",
    "        '''\n",
    "        return start + datetime.timedelta(\n",
    "            seconds = random.randint(0, int((end - start).total_seconds())))\n",
    "        \n",
    "\n",
    "    def generate_task_sample(self,id):\n",
    "\n",
    "        task_dict = {\n",
    "        \"task_id\": id,\n",
    "        \"status\": random.choice(['Complete','In progress', 'Not complete']), # Update status from due_date in dataframe\n",
    "        \"person_assigned\": str(self.generate_name()),\n",
    "        \"due_date\": self.generate_datetime((datetime.datetime.now()),datetime.datetime(2024,1,1)),\n",
    "        \"estimated_duration_days\": random.randint(1,360)\n",
    "\n",
    "        }\n",
    "\n",
    "        return task_dict\n",
    "    \n",
    "    def create_task_samples(self):\n",
    "        records = [self.generate_task_sample(i) for i in range(1500)]\n",
    "        self.df = pd.DataFrame(records)"
   ]
  },
  {
   "cell_type": "code",
   "execution_count": 129,
   "metadata": {},
   "outputs": [
    {
     "name": "stdout",
     "output_type": "stream",
     "text": [
      "1500 samples\n",
      "6 columns\n",
      "1500 samples\n",
      "5 columns\n"
     ]
    }
   ],
   "source": [
    "# Create both dfs\n",
    "task_df = TaskDataFrame()\n",
    "project_df = ProjectDataFrame()\n",
    "\n",
    "project_df.create_project_samples()\n",
    "task_df.create_task_samples()\n",
    "print(project_df)\n",
    "print(task_df)"
   ]
  }
 ],
 "metadata": {
  "kernelspec": {
   "display_name": "base",
   "language": "python",
   "name": "python3"
  },
  "language_info": {
   "codemirror_mode": {
    "name": "ipython",
    "version": 3
   },
   "file_extension": ".py",
   "mimetype": "text/x-python",
   "name": "python",
   "nbconvert_exporter": "python",
   "pygments_lexer": "ipython3",
   "version": "3.10.9"
  },
  "orig_nbformat": 4
 },
 "nbformat": 4,
 "nbformat_minor": 2
}
